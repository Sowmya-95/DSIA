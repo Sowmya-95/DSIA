{
 "cells": [
  {
   "cell_type": "code",
   "execution_count": 1,
   "metadata": {},
   "outputs": [],
   "source": [
    "# importing libraries\n",
    "import pandas as pd\n",
    "import matplotlib.pyplot as plt\n",
    "import seaborn as sns\n",
    "import numpy as np\n",
    "import os # added this import to check file is present in a directory or not"
   ]
  },
  {
   "cell_type": "code",
   "execution_count": 2,
   "metadata": {},
   "outputs": [
    {
     "data": {
      "text/html": [
       "<div>\n",
       "<style scoped>\n",
       "    .dataframe tbody tr th:only-of-type {\n",
       "        vertical-align: middle;\n",
       "    }\n",
       "\n",
       "    .dataframe tbody tr th {\n",
       "        vertical-align: top;\n",
       "    }\n",
       "\n",
       "    .dataframe thead th {\n",
       "        text-align: right;\n",
       "    }\n",
       "</style>\n",
       "<table border=\"1\" class=\"dataframe\">\n",
       "  <thead>\n",
       "    <tr style=\"text-align: right;\">\n",
       "      <th></th>\n",
       "      <th>machine_id</th>\n",
       "      <th>product_id</th>\n",
       "      <th>quality</th>\n",
       "    </tr>\n",
       "  </thead>\n",
       "  <tbody>\n",
       "    <tr>\n",
       "      <th>0</th>\n",
       "      <td>Printer F0815</td>\n",
       "      <td>P3.2.500</td>\n",
       "      <td>OK</td>\n",
       "    </tr>\n",
       "    <tr>\n",
       "      <th>1</th>\n",
       "      <td>Printer F0815</td>\n",
       "      <td>P3.2.501</td>\n",
       "      <td>OK</td>\n",
       "    </tr>\n",
       "    <tr>\n",
       "      <th>2</th>\n",
       "      <td>Printer F0815</td>\n",
       "      <td>P3.2.502</td>\n",
       "      <td>OK</td>\n",
       "    </tr>\n",
       "    <tr>\n",
       "      <th>3</th>\n",
       "      <td>Printer F0815</td>\n",
       "      <td>P3.2.503</td>\n",
       "      <td>OK</td>\n",
       "    </tr>\n",
       "    <tr>\n",
       "      <th>4</th>\n",
       "      <td>Printer F0815</td>\n",
       "      <td>P3.2.504</td>\n",
       "      <td>OK</td>\n",
       "    </tr>\n",
       "  </tbody>\n",
       "</table>\n",
       "</div>"
      ],
      "text/plain": [
       "      machine_id product_id quality\n",
       "0  Printer F0815   P3.2.500      OK\n",
       "1  Printer F0815   P3.2.501      OK\n",
       "2  Printer F0815   P3.2.502      OK\n",
       "3  Printer F0815   P3.2.503      OK\n",
       "4  Printer F0815   P3.2.504      OK"
      ]
     },
     "execution_count": 2,
     "metadata": {},
     "output_type": "execute_result"
    }
   ],
   "source": [
    "# get quality data\n",
    "df = pd.read_csv('product_quality_log.csv')\n",
    "df = df.drop(df.columns[[0]], axis=1)\n",
    "df.head()"
   ]
  },
  {
   "cell_type": "code",
   "execution_count": 3,
   "metadata": {},
   "outputs": [
    {
     "data": {
      "text/html": [
       "<div>\n",
       "<style scoped>\n",
       "    .dataframe tbody tr th:only-of-type {\n",
       "        vertical-align: middle;\n",
       "    }\n",
       "\n",
       "    .dataframe tbody tr th {\n",
       "        vertical-align: top;\n",
       "    }\n",
       "\n",
       "    .dataframe thead th {\n",
       "        text-align: right;\n",
       "    }\n",
       "</style>\n",
       "<table border=\"1\" class=\"dataframe\">\n",
       "  <thead>\n",
       "    <tr style=\"text-align: right;\">\n",
       "      <th></th>\n",
       "      <th>timestamp</th>\n",
       "      <th>product_id</th>\n",
       "    </tr>\n",
       "  </thead>\n",
       "  <tbody>\n",
       "    <tr>\n",
       "      <th>0</th>\n",
       "      <td>2021-05-17_08-12-48</td>\n",
       "      <td>P3.2.500</td>\n",
       "    </tr>\n",
       "    <tr>\n",
       "      <th>1</th>\n",
       "      <td>2021-05-17_08-12-51</td>\n",
       "      <td>P3.2.501</td>\n",
       "    </tr>\n",
       "    <tr>\n",
       "      <th>2</th>\n",
       "      <td>2021-05-17_08-12-54</td>\n",
       "      <td>P3.2.502</td>\n",
       "    </tr>\n",
       "    <tr>\n",
       "      <th>3</th>\n",
       "      <td>2021-05-17_08-12-57</td>\n",
       "      <td>P3.2.503</td>\n",
       "    </tr>\n",
       "    <tr>\n",
       "      <th>4</th>\n",
       "      <td>2021-05-17_08-13-00</td>\n",
       "      <td>P3.2.504</td>\n",
       "    </tr>\n",
       "  </tbody>\n",
       "</table>\n",
       "</div>"
      ],
      "text/plain": [
       "             timestamp product_id\n",
       "0  2021-05-17_08-12-48   P3.2.500\n",
       "1  2021-05-17_08-12-51   P3.2.501\n",
       "2  2021-05-17_08-12-54   P3.2.502\n",
       "3  2021-05-17_08-12-57   P3.2.503\n",
       "4  2021-05-17_08-13-00   P3.2.504"
      ]
     },
     "execution_count": 3,
     "metadata": {},
     "output_type": "execute_result"
    }
   ],
   "source": [
    "# get timestamp data\n",
    "df_timestamp = pd.read_csv('production_log.csv')\n",
    "df_timestamp = df_timestamp.drop(df_timestamp.columns[[0]], axis=1)\n",
    "df_timestamp.head()"
   ]
  },
  {
   "cell_type": "code",
   "execution_count": 4,
   "metadata": {},
   "outputs": [],
   "source": [
    "df_merge = pd.merge(df,df_timestamp, on=\"product_id\")"
   ]
  },
  {
   "cell_type": "code",
   "execution_count": 5,
   "metadata": {},
   "outputs": [
    {
     "data": {
      "text/html": [
       "<div>\n",
       "<style scoped>\n",
       "    .dataframe tbody tr th:only-of-type {\n",
       "        vertical-align: middle;\n",
       "    }\n",
       "\n",
       "    .dataframe tbody tr th {\n",
       "        vertical-align: top;\n",
       "    }\n",
       "\n",
       "    .dataframe thead th {\n",
       "        text-align: right;\n",
       "    }\n",
       "</style>\n",
       "<table border=\"1\" class=\"dataframe\">\n",
       "  <thead>\n",
       "    <tr style=\"text-align: right;\">\n",
       "      <th></th>\n",
       "      <th>machine_id</th>\n",
       "      <th>product_id</th>\n",
       "      <th>quality</th>\n",
       "      <th>timestamp</th>\n",
       "    </tr>\n",
       "  </thead>\n",
       "  <tbody>\n",
       "    <tr>\n",
       "      <th>0</th>\n",
       "      <td>Printer F0815</td>\n",
       "      <td>P3.2.500</td>\n",
       "      <td>OK</td>\n",
       "      <td>2021-05-17_08-12-48</td>\n",
       "    </tr>\n",
       "    <tr>\n",
       "      <th>1</th>\n",
       "      <td>Printer F0815</td>\n",
       "      <td>P3.2.501</td>\n",
       "      <td>OK</td>\n",
       "      <td>2021-05-17_08-12-51</td>\n",
       "    </tr>\n",
       "    <tr>\n",
       "      <th>2</th>\n",
       "      <td>Printer F0815</td>\n",
       "      <td>P3.2.502</td>\n",
       "      <td>OK</td>\n",
       "      <td>2021-05-17_08-12-54</td>\n",
       "    </tr>\n",
       "    <tr>\n",
       "      <th>3</th>\n",
       "      <td>Printer F0815</td>\n",
       "      <td>P3.2.503</td>\n",
       "      <td>OK</td>\n",
       "      <td>2021-05-17_08-12-57</td>\n",
       "    </tr>\n",
       "    <tr>\n",
       "      <th>4</th>\n",
       "      <td>Printer F0815</td>\n",
       "      <td>P3.2.504</td>\n",
       "      <td>OK</td>\n",
       "      <td>2021-05-17_08-13-00</td>\n",
       "    </tr>\n",
       "  </tbody>\n",
       "</table>\n",
       "</div>"
      ],
      "text/plain": [
       "      machine_id product_id quality            timestamp\n",
       "0  Printer F0815   P3.2.500      OK  2021-05-17_08-12-48\n",
       "1  Printer F0815   P3.2.501      OK  2021-05-17_08-12-51\n",
       "2  Printer F0815   P3.2.502      OK  2021-05-17_08-12-54\n",
       "3  Printer F0815   P3.2.503      OK  2021-05-17_08-12-57\n",
       "4  Printer F0815   P3.2.504      OK  2021-05-17_08-13-00"
      ]
     },
     "execution_count": 5,
     "metadata": {},
     "output_type": "execute_result"
    }
   ],
   "source": [
    "df_merge.head()"
   ]
  },
  {
   "cell_type": "code",
   "execution_count": 6,
   "metadata": {},
   "outputs": [
    {
     "name": "stdout",
     "output_type": "stream",
     "text": [
      "Quality Data - Number of rows :  1656\n",
      "Timestamp data - Number of rows :  1656\n",
      "Merged Data - Number of rows :  1656\n"
     ]
    }
   ],
   "source": [
    "print(\"Quality Data - Number of rows : \", df.shape[0])\n",
    "print(\"Timestamp data - Number of rows : \", df_timestamp.shape[0])\n",
    "print(\"Merged Data - Number of rows : \", df_merge.shape[0])"
   ]
  },
  {
   "cell_type": "code",
   "execution_count": 7,
   "metadata": {},
   "outputs": [
    {
     "data": {
      "text/plain": [
       "machine_id    0\n",
       "product_id    0\n",
       "quality       0\n",
       "timestamp     0\n",
       "dtype: int64"
      ]
     },
     "execution_count": 7,
     "metadata": {},
     "output_type": "execute_result"
    }
   ],
   "source": [
    "# Check missing values\n",
    "df_merge.isnull().sum()\n",
    "# no missing values"
   ]
  },
  {
   "cell_type": "code",
   "execution_count": 8,
   "metadata": {},
   "outputs": [
    {
     "name": "stdout",
     "output_type": "stream",
     "text": [
      "Count of rows for which vibration data does not exist :  0\n"
     ]
    },
    {
     "data": {
      "text/html": [
       "<div>\n",
       "<style scoped>\n",
       "    .dataframe tbody tr th:only-of-type {\n",
       "        vertical-align: middle;\n",
       "    }\n",
       "\n",
       "    .dataframe tbody tr th {\n",
       "        vertical-align: top;\n",
       "    }\n",
       "\n",
       "    .dataframe thead th {\n",
       "        text-align: right;\n",
       "    }\n",
       "</style>\n",
       "<table border=\"1\" class=\"dataframe\">\n",
       "  <thead>\n",
       "    <tr style=\"text-align: right;\">\n",
       "      <th></th>\n",
       "      <th>machine_id</th>\n",
       "      <th>product_id</th>\n",
       "      <th>quality</th>\n",
       "      <th>timestamp</th>\n",
       "      <th>file_present</th>\n",
       "    </tr>\n",
       "  </thead>\n",
       "  <tbody>\n",
       "    <tr>\n",
       "      <th>0</th>\n",
       "      <td>Printer F0815</td>\n",
       "      <td>P3.2.500</td>\n",
       "      <td>OK</td>\n",
       "      <td>2021-05-17_08-12-48</td>\n",
       "      <td>1</td>\n",
       "    </tr>\n",
       "    <tr>\n",
       "      <th>1</th>\n",
       "      <td>Printer F0815</td>\n",
       "      <td>P3.2.501</td>\n",
       "      <td>OK</td>\n",
       "      <td>2021-05-17_08-12-51</td>\n",
       "      <td>1</td>\n",
       "    </tr>\n",
       "    <tr>\n",
       "      <th>2</th>\n",
       "      <td>Printer F0815</td>\n",
       "      <td>P3.2.502</td>\n",
       "      <td>OK</td>\n",
       "      <td>2021-05-17_08-12-54</td>\n",
       "      <td>1</td>\n",
       "    </tr>\n",
       "    <tr>\n",
       "      <th>3</th>\n",
       "      <td>Printer F0815</td>\n",
       "      <td>P3.2.503</td>\n",
       "      <td>OK</td>\n",
       "      <td>2021-05-17_08-12-57</td>\n",
       "      <td>1</td>\n",
       "    </tr>\n",
       "    <tr>\n",
       "      <th>4</th>\n",
       "      <td>Printer F0815</td>\n",
       "      <td>P3.2.504</td>\n",
       "      <td>OK</td>\n",
       "      <td>2021-05-17_08-13-00</td>\n",
       "      <td>1</td>\n",
       "    </tr>\n",
       "    <tr>\n",
       "      <th>...</th>\n",
       "      <td>...</td>\n",
       "      <td>...</td>\n",
       "      <td>...</td>\n",
       "      <td>...</td>\n",
       "      <td>...</td>\n",
       "    </tr>\n",
       "    <tr>\n",
       "      <th>1651</th>\n",
       "      <td>Printer F0815</td>\n",
       "      <td>P3.2.2151</td>\n",
       "      <td>nOK</td>\n",
       "      <td>2021-05-17_09-35-21</td>\n",
       "      <td>1</td>\n",
       "    </tr>\n",
       "    <tr>\n",
       "      <th>1652</th>\n",
       "      <td>Printer F0815</td>\n",
       "      <td>P3.2.2152</td>\n",
       "      <td>nOK</td>\n",
       "      <td>2021-05-17_09-35-24</td>\n",
       "      <td>1</td>\n",
       "    </tr>\n",
       "    <tr>\n",
       "      <th>1653</th>\n",
       "      <td>Printer F0815</td>\n",
       "      <td>P3.2.2153</td>\n",
       "      <td>nOK</td>\n",
       "      <td>2021-05-17_09-35-27</td>\n",
       "      <td>1</td>\n",
       "    </tr>\n",
       "    <tr>\n",
       "      <th>1654</th>\n",
       "      <td>Printer F0815</td>\n",
       "      <td>P3.2.2154</td>\n",
       "      <td>nOK</td>\n",
       "      <td>2021-05-17_09-35-30</td>\n",
       "      <td>1</td>\n",
       "    </tr>\n",
       "    <tr>\n",
       "      <th>1655</th>\n",
       "      <td>Printer F0815</td>\n",
       "      <td>P3.2.2155</td>\n",
       "      <td>nOK</td>\n",
       "      <td>2021-05-17_09-35-33</td>\n",
       "      <td>1</td>\n",
       "    </tr>\n",
       "  </tbody>\n",
       "</table>\n",
       "<p>1656 rows × 5 columns</p>\n",
       "</div>"
      ],
      "text/plain": [
       "         machine_id product_id quality            timestamp  file_present\n",
       "0     Printer F0815   P3.2.500      OK  2021-05-17_08-12-48             1\n",
       "1     Printer F0815   P3.2.501      OK  2021-05-17_08-12-51             1\n",
       "2     Printer F0815   P3.2.502      OK  2021-05-17_08-12-54             1\n",
       "3     Printer F0815   P3.2.503      OK  2021-05-17_08-12-57             1\n",
       "4     Printer F0815   P3.2.504      OK  2021-05-17_08-13-00             1\n",
       "...             ...        ...     ...                  ...           ...\n",
       "1651  Printer F0815  P3.2.2151     nOK  2021-05-17_09-35-21             1\n",
       "1652  Printer F0815  P3.2.2152     nOK  2021-05-17_09-35-24             1\n",
       "1653  Printer F0815  P3.2.2153     nOK  2021-05-17_09-35-27             1\n",
       "1654  Printer F0815  P3.2.2154     nOK  2021-05-17_09-35-30             1\n",
       "1655  Printer F0815  P3.2.2155     nOK  2021-05-17_09-35-33             1\n",
       "\n",
       "[1656 rows x 5 columns]"
      ]
     },
     "execution_count": 8,
     "metadata": {},
     "output_type": "execute_result"
    }
   ],
   "source": [
    "#### Check all files exist or not , and append that detail in the data frame\n",
    "# initialize file_present column\n",
    "df_merge[\"file_present\"] = 1 # 1 indicates file is present\n",
    "\n",
    "## Logic to check if all files are present or not\n",
    "for index, row in df_merge.iterrows():\n",
    "    #print(row['timestamp'])\n",
    "    if os.path.isfile(\"vibrationdata/\" + row['timestamp']) is False:\n",
    "        df_merge.at[index, 'file_present'] = 0\n",
    "\n",
    "print(\"Count of rows for which vibration data does not exist : \", len(df_merge[df_merge[\"file_present\"] == 0].index))\n",
    "## Since there is no missing vibration data file. Thus, not making any changes in dataframe.\n",
    "\n",
    "df_merge"
   ]
  },
  {
   "cell_type": "code",
   "execution_count": 9,
   "metadata": {},
   "outputs": [
    {
     "name": "stdout",
     "output_type": "stream",
     "text": [
      "Count of rows for which vibration data is not correct :  0\n"
     ]
    }
   ],
   "source": [
    "## Check all vibration data files contain 20480 points\n",
    "# initialize file_content column\n",
    "df_merge[\"file_content\"] = 1 # 1 indicates file has appropriate content\n",
    "\n",
    "## Logic to check if all files have required number of rows\n",
    "for index, row in df_merge.iterrows():\n",
    "    num_lines = sum(1 for line in open(\"vibrationdata/\" + row['timestamp']))\n",
    "    if num_lines != 20480:\n",
    "        df_merge.set_value[index, 'file_content'] = 0\n",
    "        print(row['timestamp'])\n",
    "        \n",
    "print(\"Count of rows for which vibration data is not correct : \", len(df_merge[df_merge[\"file_content\"] == 0].index))\n",
    "## Since there is no inconsistent vibration data. Thus, not making any changes in dataframe."
   ]
  },
  {
   "cell_type": "code",
   "execution_count": 10,
   "metadata": {},
   "outputs": [
    {
     "data": {
      "text/html": [
       "<div>\n",
       "<style scoped>\n",
       "    .dataframe tbody tr th:only-of-type {\n",
       "        vertical-align: middle;\n",
       "    }\n",
       "\n",
       "    .dataframe tbody tr th {\n",
       "        vertical-align: top;\n",
       "    }\n",
       "\n",
       "    .dataframe thead th {\n",
       "        text-align: right;\n",
       "    }\n",
       "</style>\n",
       "<table border=\"1\" class=\"dataframe\">\n",
       "  <thead>\n",
       "    <tr style=\"text-align: right;\">\n",
       "      <th></th>\n",
       "      <th>machine_id</th>\n",
       "      <th>product_id</th>\n",
       "      <th>quality</th>\n",
       "      <th>timestamp</th>\n",
       "    </tr>\n",
       "  </thead>\n",
       "  <tbody>\n",
       "    <tr>\n",
       "      <th>0</th>\n",
       "      <td>Printer F0815</td>\n",
       "      <td>P3.2.500</td>\n",
       "      <td>OK</td>\n",
       "      <td>2021-05-17_08-12-48</td>\n",
       "    </tr>\n",
       "    <tr>\n",
       "      <th>1</th>\n",
       "      <td>Printer F0815</td>\n",
       "      <td>P3.2.501</td>\n",
       "      <td>OK</td>\n",
       "      <td>2021-05-17_08-12-51</td>\n",
       "    </tr>\n",
       "    <tr>\n",
       "      <th>2</th>\n",
       "      <td>Printer F0815</td>\n",
       "      <td>P3.2.502</td>\n",
       "      <td>OK</td>\n",
       "      <td>2021-05-17_08-12-54</td>\n",
       "    </tr>\n",
       "    <tr>\n",
       "      <th>3</th>\n",
       "      <td>Printer F0815</td>\n",
       "      <td>P3.2.503</td>\n",
       "      <td>OK</td>\n",
       "      <td>2021-05-17_08-12-57</td>\n",
       "    </tr>\n",
       "    <tr>\n",
       "      <th>4</th>\n",
       "      <td>Printer F0815</td>\n",
       "      <td>P3.2.504</td>\n",
       "      <td>OK</td>\n",
       "      <td>2021-05-17_08-13-00</td>\n",
       "    </tr>\n",
       "    <tr>\n",
       "      <th>...</th>\n",
       "      <td>...</td>\n",
       "      <td>...</td>\n",
       "      <td>...</td>\n",
       "      <td>...</td>\n",
       "    </tr>\n",
       "    <tr>\n",
       "      <th>1651</th>\n",
       "      <td>Printer F0815</td>\n",
       "      <td>P3.2.2151</td>\n",
       "      <td>nOK</td>\n",
       "      <td>2021-05-17_09-35-21</td>\n",
       "    </tr>\n",
       "    <tr>\n",
       "      <th>1652</th>\n",
       "      <td>Printer F0815</td>\n",
       "      <td>P3.2.2152</td>\n",
       "      <td>nOK</td>\n",
       "      <td>2021-05-17_09-35-24</td>\n",
       "    </tr>\n",
       "    <tr>\n",
       "      <th>1653</th>\n",
       "      <td>Printer F0815</td>\n",
       "      <td>P3.2.2153</td>\n",
       "      <td>nOK</td>\n",
       "      <td>2021-05-17_09-35-27</td>\n",
       "    </tr>\n",
       "    <tr>\n",
       "      <th>1654</th>\n",
       "      <td>Printer F0815</td>\n",
       "      <td>P3.2.2154</td>\n",
       "      <td>nOK</td>\n",
       "      <td>2021-05-17_09-35-30</td>\n",
       "    </tr>\n",
       "    <tr>\n",
       "      <th>1655</th>\n",
       "      <td>Printer F0815</td>\n",
       "      <td>P3.2.2155</td>\n",
       "      <td>nOK</td>\n",
       "      <td>2021-05-17_09-35-33</td>\n",
       "    </tr>\n",
       "  </tbody>\n",
       "</table>\n",
       "<p>1656 rows × 4 columns</p>\n",
       "</div>"
      ],
      "text/plain": [
       "         machine_id product_id quality            timestamp\n",
       "0     Printer F0815   P3.2.500      OK  2021-05-17_08-12-48\n",
       "1     Printer F0815   P3.2.501      OK  2021-05-17_08-12-51\n",
       "2     Printer F0815   P3.2.502      OK  2021-05-17_08-12-54\n",
       "3     Printer F0815   P3.2.503      OK  2021-05-17_08-12-57\n",
       "4     Printer F0815   P3.2.504      OK  2021-05-17_08-13-00\n",
       "...             ...        ...     ...                  ...\n",
       "1651  Printer F0815  P3.2.2151     nOK  2021-05-17_09-35-21\n",
       "1652  Printer F0815  P3.2.2152     nOK  2021-05-17_09-35-24\n",
       "1653  Printer F0815  P3.2.2153     nOK  2021-05-17_09-35-27\n",
       "1654  Printer F0815  P3.2.2154     nOK  2021-05-17_09-35-30\n",
       "1655  Printer F0815  P3.2.2155     nOK  2021-05-17_09-35-33\n",
       "\n",
       "[1656 rows x 4 columns]"
      ]
     },
     "execution_count": 10,
     "metadata": {},
     "output_type": "execute_result"
    }
   ],
   "source": [
    "#### Dropping the two new generated columns\n",
    "df_merge = df_merge.drop(['file_present', 'file_content'], axis=1)\n",
    "df_merge"
   ]
  },
  {
   "cell_type": "code",
   "execution_count": 11,
   "metadata": {},
   "outputs": [],
   "source": [
    "#### Examine all the data and determine mean, standard deviation, maximum value, minimum value, sum\n",
    "\n",
    "##Initialize the features for both the sensors\n",
    "df_merge[\"sum_1\"] = 0.0\n",
    "df_merge[\"mean_1\"] = 0.0\n",
    "df_merge[\"mode_1\"] = 0.0\n",
    "df_merge[\"median_1\"] = 0.0\n",
    "df_merge[\"var_1\"] = 0.0\n",
    "df_merge[\"std_dev_1\"] = 0.0\n",
    "df_merge[\"max_1\"] = 0.0\n",
    "df_merge[\"min_1\"] = 0.0\n",
    "\n",
    "df_merge[\"sum_2\"] = 0.0\n",
    "df_merge[\"mean_2\"] = 0.0\n",
    "df_merge[\"mode_2\"] = 0.0\n",
    "df_merge[\"median_2\"] = 0.0\n",
    "df_merge[\"var_2\"] = 0.0\n",
    "df_merge[\"std_dev_2\"] = 0.0\n",
    "df_merge[\"max_2\"] = 0.0\n",
    "df_merge[\"min_2\"] = 0.0\n",
    "\n",
    "\n",
    "## Logic to iterate over all the data and get the features\n",
    "for index, row in df_merge.iterrows():\n",
    "    data1=pd.read_csv(\"vibrationdata/\" + row['timestamp'], sep=\"\\t\", header=None, \n",
    "                 names=[\"Sensor1\", \"Sensor2\"])\n",
    "    #print(\"Mean: \", data1[\"Sensor1\"].mean())\n",
    "    #print(\"Mode: \", data1[\"Sensor1\"].mode().values[0])\n",
    "    #print(\"Median: \", data1[\"Sensor1\"].median())\n",
    "    #print(\"Minimum: \", data1[\"Sensor1\"].min())\n",
    "    #print(\"Maximum: \", data1[\"Sensor1\"].max())\n",
    "    #print(\"Std deviation: \", data1[\"Sensor1\"].std())\n",
    "    #print(\"Variance: \", data1[\"Sensor1\"].var())\n",
    "    #print(\"Sum: \", data1[\"Sensor1\"].sum())\n",
    "    \n",
    "    df_merge.loc[index, 'sum_1'] = data1[\"Sensor1\"].sum()\n",
    "    df_merge.loc[index, 'mean_1'] = data1[\"Sensor1\"].mean()\n",
    "    df_merge.loc[index, 'mode_1'] = data1[\"Sensor1\"].mode().values[0]\n",
    "    df_merge.loc[index, 'median_1'] = data1[\"Sensor1\"].median()\n",
    "    df_merge.loc[index, 'var_1'] = data1[\"Sensor1\"].var()\n",
    "    df_merge.loc[index, 'std_dev_1'] = data1[\"Sensor1\"].std()\n",
    "    df_merge.loc[index, 'min_1'] = data1[\"Sensor1\"].min()\n",
    "    df_merge.loc[index, 'max_1'] = data1[\"Sensor1\"].max()\n",
    "    \n",
    "    df_merge.loc[index, 'sum_2'] = data1[\"Sensor2\"].sum()\n",
    "    df_merge.loc[index, 'mean_2'] = data1[\"Sensor2\"].mean()\n",
    "    df_merge.loc[index, 'mode_2'] = data1[\"Sensor2\"].mode().values[0]\n",
    "    df_merge.loc[index, 'median_2'] = data1[\"Sensor2\"].median()\n",
    "    df_merge.loc[index, 'var_2'] = data1[\"Sensor2\"].var()\n",
    "    df_merge.loc[index, 'std_dev_2'] = data1[\"Sensor2\"].std()\n",
    "    df_merge.loc[index, 'min_2'] = data1[\"Sensor2\"].min()\n",
    "    df_merge.loc[index, 'max_2'] = data1[\"Sensor2\"].max()\n",
    "    \n"
   ]
  },
  {
   "cell_type": "code",
   "execution_count": 42,
   "metadata": {},
   "outputs": [
    {
     "name": "stdout",
     "output_type": "stream",
     "text": [
      "quality\n",
      "OK     1564\n",
      "nOK      92\n",
      "dtype: int64\n"
     ]
    }
   ],
   "source": [
    "print(df_merge.groupby('quality').size())"
   ]
  },
  {
   "cell_type": "code",
   "execution_count": 13,
   "metadata": {},
   "outputs": [],
   "source": [
    "array = df_merge.values\n",
    "X = array[:,4:]\n",
    "y = array[:,2]"
   ]
  },
  {
   "cell_type": "code",
   "execution_count": 14,
   "metadata": {},
   "outputs": [
    {
     "data": {
      "text/plain": [
       "array([[-2407.1839999999997, -0.11753828124999999, -0.078, ...,\n",
       "        0.07949439800422953, 0.254, -0.488],\n",
       "       [-2394.986, -0.11694267578124999, -0.156, ...,\n",
       "        0.07961567394192653, 0.2289999999999999, -0.505],\n",
       "       [-2405.3059999999996, -0.11744658203124998, -0.159, ...,\n",
       "        0.08134910701516722, 0.276, -0.496],\n",
       "       ...,\n",
       "       [-2384.45, -0.11642822265625, -0.159, ..., 0.14249898666959668,\n",
       "        0.496, -0.83],\n",
       "       [-2422.871, -0.118304248046875, -0.078, ..., 0.1502421795895786,\n",
       "        0.552, -0.7909999999999999],\n",
       "       [-2420.938, -0.11820986328125001, -0.127, ...,\n",
       "        0.14634587297874438, 0.488, -0.82]], dtype=object)"
      ]
     },
     "execution_count": 14,
     "metadata": {},
     "output_type": "execute_result"
    }
   ],
   "source": [
    "X"
   ]
  },
  {
   "cell_type": "code",
   "execution_count": 15,
   "metadata": {},
   "outputs": [
    {
     "data": {
      "text/plain": [
       "array(['OK', 'OK', 'OK', ..., 'nOK', 'nOK', 'nOK'], dtype=object)"
      ]
     },
     "execution_count": 15,
     "metadata": {},
     "output_type": "execute_result"
    }
   ],
   "source": [
    "y"
   ]
  },
  {
   "cell_type": "code",
   "execution_count": 58,
   "metadata": {},
   "outputs": [],
   "source": [
    "from sklearn.model_selection import train_test_split\n",
    "from sklearn.model_selection import cross_val_score\n",
    "from sklearn.model_selection import StratifiedKFold\n",
    "from sklearn.metrics import classification_report\n",
    "from sklearn.metrics import confusion_matrix\n",
    "from sklearn.metrics import accuracy_score\n",
    "from sklearn.linear_model import LogisticRegression\n",
    "from sklearn.tree import DecisionTreeClassifier\n",
    "from sklearn.neighbors import KNeighborsClassifier\n",
    "from sklearn.discriminant_analysis import LinearDiscriminantAnalysis\n",
    "from sklearn.naive_bayes import GaussianNB\n",
    "from sklearn.svm import SVC"
   ]
  },
  {
   "cell_type": "code",
   "execution_count": 59,
   "metadata": {},
   "outputs": [],
   "source": [
    "X_train, X_validation, Y_train, Y_validation = train_test_split(X, y, test_size=0.20, random_state=1)"
   ]
  },
  {
   "cell_type": "code",
   "execution_count": 60,
   "metadata": {},
   "outputs": [
    {
     "name": "stdout",
     "output_type": "stream",
     "text": [
      "LR: 0.942607 (0.003566)\n",
      "LDA: 0.962987 (0.009850)\n",
      "KNN: 0.941097 (0.005554)\n",
      "CART: 0.950871 (0.016057)\n",
      "NB: 0.963739 (0.012095)\n",
      "SVM: 0.942607 (0.003566)\n"
     ]
    }
   ],
   "source": [
    "# Spot Check Algorithms\n",
    "models = []\n",
    "models.append(('LR', LogisticRegression(solver='liblinear', multi_class='ovr')))\n",
    "models.append(('LDA', LinearDiscriminantAnalysis()))\n",
    "models.append(('KNN', KNeighborsClassifier()))\n",
    "models.append(('CART', DecisionTreeClassifier()))\n",
    "models.append(('NB', GaussianNB()))\n",
    "models.append(('SVM', SVC(gamma='auto')))\n",
    "# evaluate each model in turn\n",
    "results = []\n",
    "names = []\n",
    "for name, model in models:\n",
    "    kfold = StratifiedKFold(n_splits=10, random_state=1, shuffle=True)\n",
    "    cv_results = cross_val_score(model, X_train, Y_train, cv=kfold, scoring='accuracy')\n",
    "    results.append(cv_results)\n",
    "    names.append(name)\n",
    "    print('%s: %f (%f)' % (name, cv_results.mean(), cv_results.std()))"
   ]
  },
  {
   "cell_type": "code",
   "execution_count": 61,
   "metadata": {},
   "outputs": [],
   "source": [
    "model = GaussianNB()\n",
    "model.fit(X_train, Y_train)\n",
    "predictions = model.predict(X_validation)"
   ]
  },
  {
   "cell_type": "code",
   "execution_count": 62,
   "metadata": {},
   "outputs": [
    {
     "name": "stdout",
     "output_type": "stream",
     "text": [
      "0.9728915662650602\n",
      "[[315   1]\n",
      " [  8   8]]\n",
      "              precision    recall  f1-score   support\n",
      "\n",
      "          OK       0.98      1.00      0.99       316\n",
      "         nOK       0.89      0.50      0.64        16\n",
      "\n",
      "    accuracy                           0.97       332\n",
      "   macro avg       0.93      0.75      0.81       332\n",
      "weighted avg       0.97      0.97      0.97       332\n",
      "\n"
     ]
    }
   ],
   "source": [
    "print(accuracy_score(Y_validation, predictions))\n",
    "print(confusion_matrix(Y_validation, predictions))\n",
    "print(classification_report(Y_validation, predictions))"
   ]
  },
  {
   "cell_type": "code",
   "execution_count": 102,
   "metadata": {},
   "outputs": [],
   "source": [
    "import imblearn\n",
    "from imblearn.over_sampling import RandomOverSampler\n",
    "from imblearn.under_sampling import RandomUnderSampler\n",
    "\n",
    "from sklearn.preprocessing import StandardScaler\n",
    "sc = StandardScaler()\n",
    "sc.fit(X)\n",
    "X = sc.transform(X)\n",
    "\n",
    "X_train, X_validation, Y_train, Y_validation = train_test_split(X, y, test_size=0.50, random_state=1)\n",
    "\n",
    "#undersample = RandomUnderSampler(sampling_strategy='majority')\n",
    "#X_under, y_under = undersample.fit_resample(X_train, Y_train)"
   ]
  },
  {
   "cell_type": "code",
   "execution_count": 103,
   "metadata": {},
   "outputs": [
    {
     "name": "stdout",
     "output_type": "stream",
     "text": [
      "LR: 0.961402 (0.016819)\n",
      "LDA: 0.960197 (0.015231)\n",
      "KNN: 0.962592 (0.013654)\n",
      "CART: 0.954114 (0.011783)\n",
      "NB: 0.960153 (0.017084)\n",
      "SVM: 0.961402 (0.015933)\n"
     ]
    }
   ],
   "source": [
    "# Spot Check Algorithms\n",
    "models = []\n",
    "models.append(('LR', LogisticRegression(solver='liblinear', multi_class='ovr')))\n",
    "models.append(('LDA', LinearDiscriminantAnalysis()))\n",
    "models.append(('KNN', KNeighborsClassifier()))\n",
    "models.append(('CART', DecisionTreeClassifier()))\n",
    "models.append(('NB', GaussianNB()))\n",
    "models.append(('SVM', SVC(gamma='auto')))\n",
    "# evaluate each model in turn\n",
    "results = []\n",
    "names = []\n",
    "for name, model in models:\n",
    "    kfold = StratifiedKFold(n_splits=10, random_state=1, shuffle=True)\n",
    "    cv_results = cross_val_score(model, X_train, Y_train, cv=kfold, scoring='accuracy')\n",
    "    results.append(cv_results)\n",
    "    names.append(name)\n",
    "    print('%s: %f (%f)' % (name, cv_results.mean(), cv_results.std()))"
   ]
  },
  {
   "cell_type": "code",
   "execution_count": 106,
   "metadata": {},
   "outputs": [],
   "source": [
    "model = KNeighborsClassifier()\n",
    "model.fit(X_train, Y_train)\n",
    "predictions = model.predict(X_validation)"
   ]
  },
  {
   "cell_type": "code",
   "execution_count": 107,
   "metadata": {},
   "outputs": [
    {
     "name": "stdout",
     "output_type": "stream",
     "text": [
      "0.966183574879227\n",
      "[[781   1]\n",
      " [ 27  19]]\n",
      "              precision    recall  f1-score   support\n",
      "\n",
      "          OK       0.97      1.00      0.98       782\n",
      "         nOK       0.95      0.41      0.58        46\n",
      "\n",
      "    accuracy                           0.97       828\n",
      "   macro avg       0.96      0.71      0.78       828\n",
      "weighted avg       0.97      0.97      0.96       828\n",
      "\n"
     ]
    }
   ],
   "source": [
    "print(accuracy_score(Y_validation, predictions))\n",
    "print(confusion_matrix(Y_validation, predictions))\n",
    "print(classification_report(Y_validation, predictions))"
   ]
  },
  {
   "cell_type": "code",
   "execution_count": 21,
   "metadata": {},
   "outputs": [
    {
     "data": {
      "image/png": "[encoded data removed]",
      "text/plain": [
       "<Figure size 432x288 with 2 Axes>"
      ]
     },
     "metadata": {
      "needs_background": "light"
     },
     "output_type": "display_data"
    }
   ],
   "source": [
    "#### Not part of the solution ####\n",
    "## Checking vibration data\n",
    "sample_frequency = 20480 # Hz\n",
    "signal_timewindow = 1 # seconds\n",
    "\n",
    "# Generate Signal Data\n",
    "t = np.linspace(0, signal_timewindow, round(signal_timewindow*sample_frequency))\n",
    "\n",
    "data1=pd.read_csv(\"vibrationdata/2021-05-17_08-12-48\", sep=\"\t\", header=None, \n",
    "                 names=[\"Sensor1\", \"Sensor2\"])\n",
    "\n",
    "fig, axs = plt.subplots(2)\n",
    "fig.suptitle('Two sensors data')\n",
    "\n",
    "plt.ylabel(\"Signal\")\n",
    "plt.xlabel(\"Time [s]\")\n",
    "#plt.plot(t, data1[\"sum\"].tail(2000))\n",
    "axs[0].plot(t, data1[\"Sensor1\"])\n",
    "axs[1].plot(t, data1[\"Sensor2\"])\n",
    "plt.show()"
   ]
  },
  {
   "cell_type": "code",
   "execution_count": null,
   "metadata": {},
   "outputs": [],
   "source": []
  }
 ],
 "metadata": {
  "kernelspec": {
   "display_name": "Python 3",
   "language": "python",
   "name": "python3"
  },
  "language_info": {
   "codemirror_mode": {
    "name": "ipython",
    "version": 3
   },
   "file_extension": ".py",
   "mimetype": "text/x-python",
   "name": "python",
   "nbconvert_exporter": "python",
   "pygments_lexer": "ipython3",
   "version": "3.9.0"
  }
 },
 "nbformat": 4,
 "nbformat_minor": 5
}
